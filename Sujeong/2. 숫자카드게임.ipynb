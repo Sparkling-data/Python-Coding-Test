{
 "cells": [
  {
   "cell_type": "code",
   "execution_count": 23,
   "metadata": {},
   "outputs": [
    {
     "name": "stdout",
     "output_type": "stream",
     "text": [
      "n x m 행렬 만들기. n값 입력후 한칸 띄어쓰고 m 입력하기! : 2 2\n",
      "이제부터 총 2번의 값을 입력해야 합니다.\n",
      "한 줄에 2개의 숫자를 입력하시오. 단 한 숫자쓰고 한칸 띄어쓰기 필수.5 6 \n",
      "입력값(행)에서 가장 작은수는 : 5 입니다.\n",
      "한 줄에 2개의 숫자를 입력하시오. 단 한 숫자쓰고 한칸 띄어쓰기 필수.2 3\n",
      "입력값(행)에서 가장 작은수는 : 2 입니다.\n",
      "각 행에서 가장 작은 값들 중 제일 큰 수는 : 5 입니다.\n"
     ]
    }
   ],
   "source": [
    "n, m = map(int,input(\"n x m 행렬 만들기. n값 입력후 한칸 띄어쓰고 m 입력하기! : \").split())\n",
    "print('이제부터 총 {}번의 값을 입력해야 합니다.'.format(n))\n",
    "\n",
    "result = []\n",
    "\n",
    "for i in range(n):\n",
    "    data = list(map(int,input(\"한 줄에 {}개의 숫자를 입력하시오. 단 한 숫자쓰고 한칸 띄어쓰기 필수.\".format(m)).split())) ## 입력하는 값을 리스트의 형식으로 만듬\n",
    "    small_value = min(data)\n",
    "    print(\"입력값(행)에서 가장 작은수는 : {} 입니다.\".format(small_value))\n",
    "    result.append(small_value) \n",
    "                          \n",
    "big_result = max(result)\n",
    "\n",
    "print(\"각 행에서 가장 작은 값들 중 제일 큰 수는 : {} 입니다.\".format(big_result)) "
   ]
  }
 ],
 "metadata": {
  "kernelspec": {
   "display_name": "Python 3",
   "language": "python",
   "name": "python3"
  },
  "language_info": {
   "codemirror_mode": {
    "name": "ipython",
    "version": 3
   },
   "file_extension": ".py",
   "mimetype": "text/x-python",
   "name": "python",
   "nbconvert_exporter": "python",
   "pygments_lexer": "ipython3",
   "version": "3.8.5"
  }
 },
 "nbformat": 4,
 "nbformat_minor": 4
}
