{
 "cells": [
  {
   "cell_type": "code",
   "execution_count": 12,
   "metadata": {},
   "outputs": [
    {
     "name": "stdout",
     "output_type": "stream",
     "text": [
      "아무런 값이나 입력하세요. 단, 0보다 커야함. : 17\n",
      "좀 전에 입력한 값보다는 작은 값을 입력하세요! 단, 0보다 커야함. : 4\n",
      "1 번째에는 16\n",
      "2 번째에는 4\n",
      "3 번째에는 1\n",
      "3번에 걸쳐 1을 만들었네요~!!!\n"
     ]
    }
   ],
   "source": [
    "n = int(input(\"아무런 값이나 입력하세요. 단, 0보다 커야함. : \"))\n",
    "k = int(input(\"좀 전에 입력한 값보다는 작은 값을 입력하세요! 단, 0보다 커야함. : \"))\n",
    "\n",
    "times = 0    # 값이 없다네\n",
    "\n",
    "# 둘중 하나를 반복해서 1이 될때까지 만들어야함.\n",
    "# 1) n-1\n",
    "# 2) n/k\n",
    "\n",
    "while n >= k:\n",
    "    if n % k == 0:\n",
    "        n = n // k\n",
    "        times += 1\n",
    "        print(\"{} 번째에는 {}\".format(times, n))\n",
    "    else:\n",
    "        n -= 1\n",
    "        times += 1\n",
    "        print(\"{} 번째에는 {}\".format(times, n))\n",
    "        \n",
    "while n > 1:\n",
    "    n -= 1\n",
    "    times += 1\n",
    "    print(\"{} 번째에는 {}\".format(times, n))\n",
    "\n",
    "print(\"{}번에 걸쳐 1을 만들었네요~!!!\".format(times))"
   ]
  }
 ],
 "metadata": {
  "kernelspec": {
   "display_name": "Python 3",
   "language": "python",
   "name": "python3"
  },
  "language_info": {
   "codemirror_mode": {
    "name": "ipython",
    "version": 3
   },
   "file_extension": ".py",
   "mimetype": "text/x-python",
   "name": "python",
   "nbconvert_exporter": "python",
   "pygments_lexer": "ipython3",
   "version": "3.8.5"
  }
 },
 "nbformat": 4,
 "nbformat_minor": 4
}
