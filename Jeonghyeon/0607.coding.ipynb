{
 "cells": [
  {
   "cell_type": "markdown",
   "metadata": {},
   "source": [
    "##실전문제 N0.3\n",
    "\n",
    "입력 = N, K\n",
    "\n",
    "연산 1) N에서 1을 뺀다.\n",
    "연산 2) N을 K로 나눈다.(N이 K로 나누어 떨어질때만 가능)\n",
    "위의 연산 2개를 반복적으로 사용해서(순서 상관 없음) N을 1로 만들어라.\n",
    "단, 최소의 연산 횟수를 사용해서.\n",
    "출력 = 최소의 연산 횟수"
   ]
  },
  {
   "cell_type": "code",
   "execution_count": 1,
   "metadata": {},
   "outputs": [
    {
     "name": "stdout",
     "output_type": "stream",
     "text": [
      "25 5\n",
      "2\n"
     ]
    }
   ],
   "source": [
    "n, k = map(int, input().split())\n",
    "\n",
    "answer = 0\n",
    "\n",
    "while n >= k:\n",
    "    if n % k == 0:\n",
    "        n = n // k\n",
    "        answer += 1\n",
    "    else:\n",
    "        n -= 1\n",
    "        answer += 1\n",
    "while n > 1:         # n < k\n",
    "    n -= 1\n",
    "    answer += 1\n",
    "        \n",
    "print(answer)\n",
    "\n",
    "    \n",
    "    \n"
   ]
  },
  {
   "cell_type": "code",
   "execution_count": null,
   "metadata": {},
   "outputs": [],
   "source": []
  }
 ],
 "metadata": {
  "kernelspec": {
   "display_name": "Python 3",
   "language": "python",
   "name": "python3"
  },
  "language_info": {
   "codemirror_mode": {
    "name": "ipython",
    "version": 3
   },
   "file_extension": ".py",
   "mimetype": "text/x-python",
   "name": "python",
   "nbconvert_exporter": "python",
   "pygments_lexer": "ipython3",
   "version": "3.8.5"
  }
 },
 "nbformat": 4,
 "nbformat_minor": 4
}
